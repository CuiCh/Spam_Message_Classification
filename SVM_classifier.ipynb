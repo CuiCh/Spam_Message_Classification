{
 "cells": [
  {
   "cell_type": "code",
   "execution_count": 2,
   "metadata": {
    "collapsed": true
   },
   "outputs": [],
   "source": [
    "import jieba\n",
    "import time\n",
    "import pandas as pd\n",
    "import numpy as np\n",
    "import matplotlib.pyplot as plt\n",
    "from sklearn import svm\n",
    "from sklearn.model_selection import train_test_split\n",
    "from sklearn import metrics"
   ]
  },
  {
   "cell_type": "code",
   "execution_count": 3,
   "metadata": {},
   "outputs": [
    {
     "data": {
      "text/plain": [
       "(800000, 2)"
      ]
     },
     "execution_count": 3,
     "metadata": {},
     "output_type": "execute_result"
    }
   ],
   "source": [
    "filepath = \"data/traindata.csv\"\n",
    "# 加载全部数据\n",
    "alldata = pd.read_csv(filepath,header=None)\n",
    "alldata.columns=[\"label\",\"content\"]\n",
    "alldata.shape"
   ]
  },
  {
   "cell_type": "code",
   "execution_count": 7,
   "metadata": {},
   "outputs": [],
   "source": [
    "# 随机抽取n条数据\n",
    "data = alldata.sample(n=1000)\n",
    "# data = alldata.iloc[:1000]"
   ]
  },
  {
   "cell_type": "code",
   "execution_count": 8,
   "metadata": {},
   "outputs": [
    {
     "data": {
      "text/plain": [
       "0    902\n",
       "1     98\n",
       "Name: label, dtype: int64"
      ]
     },
     "execution_count": 8,
     "metadata": {},
     "output_type": "execute_result"
    }
   ],
   "source": [
    "data[\"label\"].value_counts()"
   ]
  },
  {
   "cell_type": "code",
   "execution_count": 9,
   "metadata": {
    "collapsed": true
   },
   "outputs": [],
   "source": [
    "def logtime(func):\n",
    "    \"\"\"\n",
    "    函数目的：测量函数运行时间\n",
    "    Parameter:\n",
    "        func - 被测量的函数\n",
    "    Return:\n",
    "        wrapper - 被装饰之后的函数\n",
    "    \"\"\"\n",
    "    def wrapper(*args,**kwargs):\n",
    "        start = time.time()\n",
    "        result = func(*args,**kwargs)\n",
    "        end = time.time()\n",
    "        print(\"完成函数{name}, 运行时间 {totaltime:.3f}s\".format(name=func.__name__,totaltime=end-start))\n",
    "        start = time.strftime('%Y-%m-%d %H:%M:%S',time.localtime(start))\n",
    "        end = time.strftime('%Y-%m-%d %H:%M:%S',time.localtime(end))\n",
    "        print(\"开始时间 : %s \\n结束时间 : %s \"%(start,end))\n",
    "        return result\n",
    "    return wrapper"
   ]
  },
  {
   "cell_type": "code",
   "execution_count": 10,
   "metadata": {
    "collapsed": true
   },
   "outputs": [],
   "source": [
    "@logtime\n",
    "def loadStopWords(filepath):\n",
    "    \"\"\"\n",
    "    函数说明：加载获取停用词列表\n",
    "    Parameter:\n",
    "        filepath - 停用词文件的路径\n",
    "    Return:\n",
    "        stopwords - 以集合形式返回的停用词列表\n",
    "    Modify:\n",
    "        2017-12-02\n",
    "    \"\"\"\n",
    "    stopwordfile = open(filepath,\"r\",encoding=\"utf-8\").readlines()\n",
    "    stopwords = {line.strip() for line in stopwordfile}\n",
    "    return stopwords"
   ]
  },
  {
   "cell_type": "code",
   "execution_count": 11,
   "metadata": {},
   "outputs": [
    {
     "name": "stdout",
     "output_type": "stream",
     "text": [
      "完成函数loadStopWords, 运行时间 0.000s\n",
      "开始时间 : 2017-12-04 22:14:11 \n",
      "结束时间 : 2017-12-04 22:14:11 \n"
     ]
    }
   ],
   "source": [
    "stopwordsfile = \"data/stopwords.txt\"\n",
    "stopwords = loadStopWords(stopwordsfile)"
   ]
  },
  {
   "cell_type": "code",
   "execution_count": 12,
   "metadata": {},
   "outputs": [
    {
     "name": "stdout",
     "output_type": "stream",
     "text": [
      "66\n"
     ]
    }
   ],
   "source": [
    "print(len(stopwords))"
   ]
  },
  {
   "cell_type": "code",
   "execution_count": 13,
   "metadata": {
    "collapsed": true
   },
   "outputs": [],
   "source": [
    "@logtime\n",
    "def getVocalist(contents,stopwords):\n",
    "    \"\"\"\n",
    "    函数说明：获取去除停用词后的词汇表，来减小向量维度的大小\n",
    "    Parameter:\n",
    "        data - 待处理的文本数据\n",
    "        stopwords - 停用词列表\n",
    "    Return:\n",
    "        list(vocalist)- 文本词汇表\n",
    "    Modify:\n",
    "        2017-12-02\n",
    "    \"\"\"\n",
    "    vocalist = set([])\n",
    "    for i in range(len(data)):\n",
    "        content = contents.iloc[i]\n",
    "        segresult = set(jieba.cut(content))\n",
    "        # 两个集合求并集\n",
    "        vocalist = vocalist | segresult\n",
    "    vocalist = vocalist - stopwords\n",
    "    # print(vocalist)\n",
    "    print(\"词汇表长度为：\",len(vocalist))\n",
    "    return list(vocalist)"
   ]
  },
  {
   "cell_type": "code",
   "execution_count": 14,
   "metadata": {},
   "outputs": [
    {
     "name": "stderr",
     "output_type": "stream",
     "text": [
      "Building prefix dict from the default dictionary ...\n",
      "Loading model from cache C:\\Users\\CC\\AppData\\Local\\Temp\\jieba.cache\n",
      "Loading model cost 0.825 seconds.\n",
      "Prefix dict has been built succesfully.\n"
     ]
    },
    {
     "name": "stdout",
     "output_type": "stream",
     "text": [
      "词汇表长度为： 5778\n",
      "完成函数getVocalist, 运行时间 1.121s\n",
      "开始时间 : 2017-12-04 22:14:17 \n",
      "结束时间 : 2017-12-04 22:14:18 \n"
     ]
    }
   ],
   "source": [
    "contents = data[\"content\"]\n",
    "vocalist=getVocalist(contents,stopwords)   "
   ]
  },
  {
   "cell_type": "code",
   "execution_count": 19,
   "metadata": {
    "collapsed": true
   },
   "outputs": [],
   "source": [
    "# 文本信息矢量化\n",
    "def Vectorization(content,vocalist,stopwords):\n",
    "    \"\"\"\n",
    "    函数说明：得到每个短信的0-1向量表示，如[0,0,0,1,0,1,0,0,0,0....]，向量长度与词汇表长度相同\n",
    "    Paremeter:\n",
    "        content -  每条短信的内容\n",
    "        vocalist - 词汇表\n",
    "        stopwords - 停用词列表\n",
    "    Return:\n",
    "        vector - 每条短信的向量表示\n",
    "    Modify:\n",
    "        2017-12-02\n",
    "    \"\"\"\n",
    "    vector= [0]*len(vocalist)\n",
    "    segresult = set(jieba.cut(content))-stopwords\n",
    "    for word in segresult:\n",
    "        vector[vocalist.index(word)] = 1\n",
    "    return vector\n",
    "@logtime\n",
    "def vectall(data,vocalist,stopwords):\n",
    "    data[\"vector\"] = data.apply(lambda row:Vectorization(row[\"content\"],vocalist,stopwords),axis=1)"
   ]
  },
  {
   "cell_type": "code",
   "execution_count": 20,
   "metadata": {},
   "outputs": [
    {
     "name": "stdout",
     "output_type": "stream",
     "text": [
      "完成函数vectall, 运行时间 0.912s\n",
      "开始时间 : 2017-12-04 22:14:46 \n",
      "结束时间 : 2017-12-04 22:14:47 \n"
     ]
    }
   ],
   "source": [
    "# 得到每个文本的矢量化结果\n",
    "vectall(data,vocalist,stopwords)"
   ]
  },
  {
   "cell_type": "code",
   "execution_count": 21,
   "metadata": {
    "collapsed": true
   },
   "outputs": [],
   "source": [
    "# 随机划分训练数据和测试数据 8:2\n",
    "traindata,testdata = train_test_split(data,test_size=0.2)"
   ]
  },
  {
   "cell_type": "code",
   "execution_count": 22,
   "metadata": {},
   "outputs": [
    {
     "name": "stdout",
     "output_type": "stream",
     "text": [
      "训练数据的标签分布：\n",
      "0    721\n",
      "1     79\n",
      "Name: label, dtype: int64\n",
      "测试数据的标签分布：\n",
      "0    181\n",
      "1     19\n",
      "Name: label, dtype: int64\n"
     ]
    }
   ],
   "source": [
    "print(\"训练数据的标签分布：\")\n",
    "print(traindata[\"label\"].value_counts())\n",
    "print(\"测试数据的标签分布：\")\n",
    "print(testdata[\"label\"].value_counts())"
   ]
  },
  {
   "cell_type": "code",
   "execution_count": 23,
   "metadata": {
    "collapsed": true
   },
   "outputs": [],
   "source": [
    "# 构建分类器\n",
    "@logtime\n",
    "def trainclassifier(traindata):\n",
    "    \"\"\"\n",
    "    函数说明：构建不同种类的分类器\n",
    "    Parameter:\n",
    "        traindata - 训练数据\n",
    "    Return:\n",
    "        classifier.fit(vector,label) - 训练好的分类器\n",
    "    Modify:\n",
    "        2017-12-02\n",
    "    \"\"\"\n",
    "    classifier = svm.SVC(C=50,kernel='linear')\n",
    "    # 需转换为list,不然报错\n",
    "    vector = list(traindata[\"vector\"])\n",
    "    label = list(traindata[\"label\"])\n",
    "    return classifier.fit(vector,label)"
   ]
  },
  {
   "cell_type": "code",
   "execution_count": 24,
   "metadata": {},
   "outputs": [
    {
     "name": "stdout",
     "output_type": "stream",
     "text": [
      "完成函数trainclassifier, 运行时间 5.286s\n",
      "开始时间 : 2017-12-04 22:14:57 \n",
      "结束时间 : 2017-12-04 22:15:02 \n"
     ]
    }
   ],
   "source": [
    "classificer = trainclassifier(traindata)"
   ]
  },
  {
   "cell_type": "code",
   "execution_count": 25,
   "metadata": {},
   "outputs": [
    {
     "name": "stdout",
     "output_type": "stream",
     "text": [
      "完成函数applyClassificer, 运行时间 1.009s\n",
      "开始时间 : 2017-12-04 22:15:05 \n",
      "结束时间 : 2017-12-04 22:15:06 \n"
     ]
    }
   ],
   "source": [
    "# 应用分类器\n",
    "@logtime\n",
    "def applyClassificer(classificer,testdata):\n",
    "    return classificer.predict(list(testdata[\"vector\"]))\n",
    "pred = applyClassificer(classificer,testdata)"
   ]
  },
  {
   "cell_type": "code",
   "execution_count": 26,
   "metadata": {
    "collapsed": true
   },
   "outputs": [],
   "source": [
    "def elevate_result(label,pred):\n",
    "    \"\"\"\n",
    "    函数说明: 对分类器预测的结果进行评估，包括accurancy,precision,recall,F-score\n",
    "    Parameter:\n",
    "        label - 真实值\n",
    "        pred - 预测值\n",
    "    Return:\n",
    "        None\n",
    "    Modify:\n",
    "        2017-12-02\n",
    "    \"\"\"\n",
    "    con_mat = metrics.confusion_matrix(label,pred)\n",
    "    TP = con_mat[1,1]\n",
    "    TN = con_mat[0,0]\n",
    "    FP = con_mat[0,1]\n",
    "    FN = con_mat[1,0]\n",
    "    \n",
    "    accurancy = (TP+TN)/(TP+TN+FN+FP)\n",
    "    precison = TP/(TP+FP)\n",
    "    recall = TP/(TP+FN)\n",
    "    beta = 1\n",
    "    F_score = (1+pow(beta,2))*precison*recall/(pow(beta,2)*precison+recall)\n",
    "    \n",
    "    print(\"TP:\",TP)\n",
    "    print(\"TN:\",TN)\n",
    "    print(\"FP:\",FP)\n",
    "    print(\"FN:\",FN)\n",
    "    print(\"accurancy: %s \\nprecison: %s \\nrecall: %s \\nF-score: %s\" % (accurancy,precison,recall,F_score))"
   ]
  },
  {
   "cell_type": "code",
   "execution_count": 27,
   "metadata": {},
   "outputs": [
    {
     "name": "stdout",
     "output_type": "stream",
     "text": [
      "TP: 16\n",
      "TN: 181\n",
      "FP: 0\n",
      "FN: 3\n",
      "accurancy: 0.985 \n",
      "precison: 1.0 \n",
      "recall: 0.842105263158 \n",
      "F-score: 0.914285714286\n"
     ]
    }
   ],
   "source": [
    "label = testdata[\"label\"]\n",
    "elevate_result(label,pred)"
   ]
  },
  {
   "cell_type": "code",
   "execution_count": null,
   "metadata": {
    "collapsed": true
   },
   "outputs": [],
   "source": []
  }
 ],
 "metadata": {
  "kernelspec": {
   "display_name": "Python 3",
   "language": "python",
   "name": "python3"
  },
  "language_info": {
   "codemirror_mode": {
    "name": "ipython",
    "version": 3
   },
   "file_extension": ".py",
   "mimetype": "text/x-python",
   "name": "python",
   "nbconvert_exporter": "python",
   "pygments_lexer": "ipython3",
   "version": "3.6.1"
  }
 },
 "nbformat": 4,
 "nbformat_minor": 2
}
