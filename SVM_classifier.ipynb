{
 "cells": [
  {
   "cell_type": "code",
   "execution_count": 479,
   "metadata": {},
   "outputs": [],
   "source": [
    "import jieba\n",
    "import pandas as pd\n",
    "import numpy as np\n",
    "import matplotlib.pyplot as plt\n",
    "from sklearn import svm\n",
    "from sklearn.model_selection import train_test_split\n",
    "from sklearn import metrics"
   ]
  },
  {
   "cell_type": "code",
   "execution_count": 480,
   "metadata": {},
   "outputs": [
    {
     "data": {
      "text/plain": [
       "(800000, 2)"
      ]
     },
     "execution_count": 480,
     "metadata": {},
     "output_type": "execute_result"
    }
   ],
   "source": [
    "filepath = \"data/traindata.csv\"\n",
    "# 加载全部数据\n",
    "alldata = pd.read_csv(filepath,header=None)\n",
    "alldata.columns=[\"label\",\"content\"]\n",
    "alldata.shape"
   ]
  },
  {
   "cell_type": "code",
   "execution_count": 481,
   "metadata": {
    "collapsed": true
   },
   "outputs": [],
   "source": [
    "# 随机抽取n条数据\n",
    "data = alldata.sample(n=500)"
   ]
  },
  {
   "cell_type": "code",
   "execution_count": 482,
   "metadata": {},
   "outputs": [
    {
     "data": {
      "text/plain": [
       "0    433\n",
       "1     67\n",
       "Name: label, dtype: int64"
      ]
     },
     "execution_count": 482,
     "metadata": {},
     "output_type": "execute_result"
    }
   ],
   "source": [
    "data[\"label\"].value_counts()"
   ]
  },
  {
   "cell_type": "code",
   "execution_count": 483,
   "metadata": {
    "collapsed": true
   },
   "outputs": [],
   "source": [
    "def getVocalist(data):\n",
    "    vocalist = set([])\n",
    "    for i in range(len(data)):\n",
    "        content = data.iloc[i][\"content\"]\n",
    "        segresult = set(jieba.cut(content))\n",
    "        # 两个集合求并集\n",
    "        vocalist = vocalist | segresult\n",
    "    # print(vocalist)\n",
    "    print(\"词汇表长度为：\",len(vocalist))\n",
    "    return list(vocalist)"
   ]
  },
  {
   "cell_type": "code",
   "execution_count": 484,
   "metadata": {},
   "outputs": [
    {
     "name": "stdout",
     "output_type": "stream",
     "text": [
      "词汇表长度为： 3594\n"
     ]
    }
   ],
   "source": [
    "vocalist=getVocalist(data)   "
   ]
  },
  {
   "cell_type": "code",
   "execution_count": 485,
   "metadata": {
    "collapsed": true
   },
   "outputs": [],
   "source": [
    "# 文本信息矢量化\n",
    "def getVect(content,vocalist):\n",
    "    vector= [0]*len(vocalist)\n",
    "    segresult = list(jieba.cut(content))\n",
    "    for word in segresult:\n",
    "        vector[vocalist.index(word)] = 1\n",
    "    return vector"
   ]
  },
  {
   "cell_type": "code",
   "execution_count": 486,
   "metadata": {},
   "outputs": [],
   "source": [
    "# 得到每个文本的矢量化结果\n",
    "data[\"vector\"] = data.apply(lambda row:getVect(row[\"content\"],vocalist),axis=1)"
   ]
  },
  {
   "cell_type": "code",
   "execution_count": 487,
   "metadata": {
    "collapsed": true
   },
   "outputs": [],
   "source": [
    "# 随机划分训练数据和测试数据 8:2\n",
    "traindata,testdata = train_test_split(data,test_size=0.2)"
   ]
  },
  {
   "cell_type": "code",
   "execution_count": 488,
   "metadata": {},
   "outputs": [
    {
     "name": "stdout",
     "output_type": "stream",
     "text": [
      "训练数据的标签分布：\n",
      "0    346\n",
      "1     54\n",
      "Name: label, dtype: int64\n",
      "测试数据的标签分布：\n",
      "0    87\n",
      "1    13\n",
      "Name: label, dtype: int64\n"
     ]
    }
   ],
   "source": [
    "print(\"训练数据的标签分布：\")\n",
    "print(traindata[\"label\"].value_counts())\n",
    "print(\"测试数据的标签分布：\")\n",
    "print(testdata[\"label\"].value_counts())"
   ]
  },
  {
   "cell_type": "code",
   "execution_count": 489,
   "metadata": {
    "collapsed": true
   },
   "outputs": [],
   "source": [
    "# 构建分类器\n",
    "def trainclassifier(traindata):\n",
    "    classifier = svm.SVC(C=50,kernel='linear')\n",
    "    # 需转换为list,不然报错\n",
    "    vector = list(traindata[\"vector\"])\n",
    "    label = list(traindata[\"label\"])\n",
    "    return classifier.fit(vector,label)"
   ]
  },
  {
   "cell_type": "code",
   "execution_count": 490,
   "metadata": {},
   "outputs": [],
   "source": [
    "classificer = trainclassifier(traindata)"
   ]
  },
  {
   "cell_type": "code",
   "execution_count": 491,
   "metadata": {},
   "outputs": [
    {
     "name": "stderr",
     "output_type": "stream",
     "text": [
      "C:\\Developer\\Anaconda3\\lib\\site-packages\\ipykernel_launcher.py:2: SettingWithCopyWarning: \n",
      "A value is trying to be set on a copy of a slice from a DataFrame.\n",
      "Try using .loc[row_indexer,col_indexer] = value instead\n",
      "\n",
      "See the caveats in the documentation: http://pandas.pydata.org/pandas-docs/stable/indexing.html#indexing-view-versus-copy\n",
      "  \n"
     ]
    }
   ],
   "source": [
    "# 应用分类器\n",
    "testdata[\"pred\"] = classificer.predict(list(testdata[\"vector\"]))"
   ]
  },
  {
   "cell_type": "code",
   "execution_count": 492,
   "metadata": {},
   "outputs": [],
   "source": [
    "def elevate_result(data):\n",
    "    label = data[\"label\"]\n",
    "    pred = data[\"pred\"]\n",
    "    con_mat = metrics.confusion_matrix(label,pred)\n",
    "    TP = con_mat[1,1]\n",
    "    TN = con_mat[0,0]\n",
    "    FP = con_mat[0,1]\n",
    "    FN = conf_mat[1,0]\n",
    "    \n",
    "    accurancy = (TP+TN)/(TP+TN+FN+FP)\n",
    "    precison = TP/(TP+FP)\n",
    "    recall = TP/(TP+FN)\n",
    "    beta = 1\n",
    "    F_score = (1+pow(beta,2))*precison*recall/(pow(beta,2)*precison+recall)\n",
    "    \n",
    "    print(\"TP:\",TP)\n",
    "    print(\"TN:\",TN)\n",
    "    print(\"FP:\",FP)\n",
    "    print(\"FN:\",FN)\n",
    "    print(\"accurancy: %s \\nprecison: %s \\nrecall: %s \\nF-score: %s\" % (accurancy,precison,recall,F_score))"
   ]
  },
  {
   "cell_type": "code",
   "execution_count": 493,
   "metadata": {},
   "outputs": [
    {
     "name": "stdout",
     "output_type": "stream",
     "text": [
      "TP: 12\n",
      "TN: 87\n",
      "FP: 0\n",
      "FN: 1\n",
      "accurancy: 0.99 \n",
      "precison: 1.0 \n",
      "recall: 0.923076923077 \n",
      "F-score: 0.96\n"
     ]
    }
   ],
   "source": [
    "elevate_result(testdata)"
   ]
  }
 ],
 "metadata": {
  "kernelspec": {
   "display_name": "Python 3",
   "language": "python",
   "name": "python3"
  },
  "language_info": {
   "codemirror_mode": {
    "name": "ipython",
    "version": 3
   },
   "file_extension": ".py",
   "mimetype": "text/x-python",
   "name": "python",
   "nbconvert_exporter": "python",
   "pygments_lexer": "ipython3",
   "version": "3.6.1"
  }
 },
 "nbformat": 4,
 "nbformat_minor": 2
}
