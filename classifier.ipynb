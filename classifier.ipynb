{
 "cells": [
  {
   "cell_type": "code",
   "execution_count": 1,
   "metadata": {
    "collapsed": true
   },
   "outputs": [],
   "source": [
    "import jieba\n",
    "import time\n",
    "import pandas as pd\n",
    "import numpy as np\n",
    "import matplotlib.pyplot as plt\n",
    "from sklearn import svm\n",
    "from sklearn.model_selection import train_test_split\n",
    "from sklearn import metrics\n",
    "from scipy import io,sparse\n",
    "import json\n",
    "from sklearn.externals import joblib\n",
    "from sklearn.naive_bayes import GaussianNB,MultinomialNB,BernoulliNB\n",
    "from sklearn.decomposition import PCA"
   ]
  },
  {
   "cell_type": "code",
   "execution_count": 2,
   "metadata": {
    "collapsed": true
   },
   "outputs": [],
   "source": [
    "def logtime(func):\n",
    "    \"\"\"\n",
    "    函数目的：测量函数运行时间 \n",
    "    Parameter:\n",
    "        func - 被测量的函数\n",
    "    Return:\n",
    "        wrapper - 被装饰之后的函数\n",
    "    \"\"\"\n",
    "    def wrapper(*args,**kwargs):\n",
    "        start = time.time()\n",
    "        result = func(*args,**kwargs)\n",
    "        end = time.time()\n",
    "        print(\"完成函数{name}, 运行时间 {totaltime:.3f}s\".format(name=func.__name__,totaltime=end-start))\n",
    "        start = time.strftime('%Y-%m-%d %H:%M:%S',time.localtime(start))\n",
    "        end = time.strftime('%Y-%m-%d %H:%M:%S',time.localtime(end))\n",
    "        print(\"开始时间 : %s \\n结束时间 : %s \"%(start,end))\n",
    "        return result\n",
    "    return wrapper"
   ]
  },
  {
   "cell_type": "code",
   "execution_count": 3,
   "metadata": {
    "collapsed": true
   },
   "outputs": [],
   "source": [
    "def load_data_from_file(content_path,label_path):\n",
    "    content = io.mmread(content_path)\n",
    "    with open(label_path, 'r') as f:\n",
    "        label = json.load(f)\n",
    "    return content,label"
   ]
  },
  {
   "cell_type": "code",
   "execution_count": 4,
   "metadata": {
    "collapsed": true
   },
   "outputs": [],
   "source": [
    "def split_data(content,label):\n",
    "    train_content,test_content,train_label,test_label = train_test_split(content,label,test_size=0.2)\n",
    "    return train_content,test_content,train_label,test_label"
   ]
  },
  {
   "cell_type": "code",
   "execution_count": 5,
   "metadata": {
    "collapsed": true
   },
   "outputs": [],
   "source": [
    "@logtime\n",
    "def dimensionality_reduction(content):\n",
    "        n_components = 1000\n",
    "        pca = PCA(n_components=n_components, svd_solver='auto')\n",
    "        pca.fit(content)\n",
    "        content = sparse.csr_matrix(pca.transform(content))\n",
    "        return content"
   ]
  },
  {
   "cell_type": "code",
   "execution_count": 6,
   "metadata": {
    "collapsed": true
   },
   "outputs": [],
   "source": [
    "@logtime\n",
    "def clf_train(clf,train_content,train_label):\n",
    "    return clf.fit(train_content.toarray(),train_label)"
   ]
  },
  {
   "cell_type": "code",
   "execution_count": 7,
   "metadata": {
    "collapsed": true
   },
   "outputs": [],
   "source": [
    "def train_svm(train_content,train_label):\n",
    "    \"\"\"\n",
    "    函数说明：训练SVM分类器\n",
    "    Parameter:\n",
    "        train_content - 训练数据\n",
    "        train_label - 训练标签\n",
    "    Return:\n",
    "        classifier.fit(vector,label) - 训练好的分类器\n",
    "    Modify:\n",
    "        2017-12-22\n",
    "    \"\"\"\n",
    "    kernals = [\"linear\",\"rbf\"]\n",
    "    clfs = []\n",
    "    for kernel in kernals:\n",
    "       \n",
    "        clf = svm.SVC(kernel=kernel)\n",
    "        clf = clf_train(clf,train_content,train_label)\n",
    "        clfs.append(clf)\n",
    "    return clfs"
   ]
  },
  {
   "cell_type": "code",
   "execution_count": 8,
   "metadata": {
    "collapsed": true
   },
   "outputs": [],
   "source": [
    "def train_bayes(train_content,train_label):\n",
    "    \"\"\"\n",
    "    函数说明：训练贝叶斯分类器\n",
    "    Parameter:\n",
    "        train_content - 训练数据\n",
    "        train_label - 训练标签\n",
    "    Return:\n",
    "        classifier.fit(vector,label) - 训练好的分类器\n",
    "    Modify:\n",
    "        2017-12-22\n",
    "    \n",
    "    \"\"\"\n",
    "    bayes = [ GaussianNB(),MultinomialNB(),BernoulliNB()]\n",
    "    clfs = []\n",
    "    for baye in bayes:\n",
    "        clf = clf_train(baye,train_content,train_label)\n",
    "        clfs.append(clf)\n",
    "    return clfs"
   ]
  },
  {
   "cell_type": "code",
   "execution_count": 9,
   "metadata": {
    "collapsed": true
   },
   "outputs": [],
   "source": [
    "@logtime\n",
    "def clf_pred(clf,test_content,test_label):\n",
    "    pred=clf.predict(test_content.toarray())\n",
    "    score = elevate_result(pred,test_label)\n",
    "    return score"
   ]
  },
  {
   "cell_type": "code",
   "execution_count": 10,
   "metadata": {
    "collapsed": true
   },
   "outputs": [],
   "source": [
    "def elevate_result(label,pred):\n",
    "    \"\"\"\n",
    "    函数说明: 对分类器预测的结果进行评估，包括accurancy,precision,recall,F-score\n",
    "    Parameter:\n",
    "        label - 真实值\n",
    "        pred - 预测值\n",
    "    Return:\n",
    "        None\n",
    "    Modify:\n",
    "        2017-12-22\n",
    "    \"\"\"\n",
    "    con_mat = metrics.confusion_matrix(label,pred)\n",
    "    TP = con_mat[1,1]\n",
    "    TN = con_mat[0,0]\n",
    "    FP = con_mat[0,1]\n",
    "    FN = con_mat[1,0]\n",
    "    \n",
    "    accurancy = (TP+TN)/(TP+TN+FN+FP)\n",
    "    precison = TP/(TP+FP)\n",
    "    recall = TP/(TP+FN)\n",
    "    beta = 1\n",
    "    F_score = (1+pow(beta,2))*precison*recall/(pow(beta,2)*precison+recall)\n",
    "    \n",
    "    print(\"TP:\",TP)\n",
    "    print(\"TN:\",TN)\n",
    "    print(\"FP:\",FP)\n",
    "    print(\"FN:\",FN)\n",
    "    print(\"accurancy: %s \\nprecison: %s \\nrecall: %s \\nF-score: %s\" % (accurancy,precison,recall,F_score))\n",
    "    \n",
    "    return [accurancy,precison,recall,F_score]\n"
   ]
  },
  {
   "cell_type": "code",
   "execution_count": 11,
   "metadata": {
    "collapsed": true
   },
   "outputs": [],
   "source": [
    "def plot_result(scores):\n",
    "    scorename = [\"accurancy\",\"precision\",\"recall\",\"F_score\"]\n",
    "    labels = [\"SVM-linear\",\"SVM-rbf\",\"GaussianNB\",\"MultinomialNB\",\"BernoulliNB\"]\n",
    "#     labels = [\"SVM-linear\",\"SVM-rbf\"]\n",
    "    fig,ax = plt.subplots(figsize=(16,10))\n",
    "    \n",
    "    x = np.arange(len(scorename))\n",
    "    total_width, n = 0.8,5     # 有多少个类型，只需更改n即可\n",
    "    width = total_width / n\n",
    "    x = x - (total_width - width) / 2\n",
    "    \n",
    "    for index,score in enumerate(scores):\n",
    "        ax.bar(x+index*width,score,alpha=0.8,label=labels[index],width=width)\n",
    "        \n",
    "    ax.set_ylim(ymax=1.2)     \n",
    "    ax.set_yticks(np.arange(0,1.2,0.2))\n",
    "    ax.set_yticklabels(np.arange(0,1.2,0.2),fontsize=15)\n",
    "    ax.set_xlim(xmax=len(scorename)+0.5)\n",
    "    ax.set_xticks(range(len(scorename)))\n",
    "    ax.set_xticklabels(scorename,fontsize=15)\n",
    "    plt.legend(loc='lower right',fontsize=15)\n",
    "    plt.savefig(\"result.jpg\")\n",
    "    plt.show()"
   ]
  },
  {
   "cell_type": "code",
   "execution_count": 12,
   "metadata": {
    "collapsed": true
   },
   "outputs": [],
   "source": [
    "def main():\n",
    "    content_path = \"../data/content_vector.mtx\"\n",
    "    label_path = \"../data/label_vector.json\"\n",
    "    \n",
    "    content,label=load_data_from_file(content_path,label_path)\n",
    "#     content = dimensionality_reduction(content.todense())\n",
    "    train_content,test_content,train_label,test_label = split_data(content,label)\n",
    "    \n",
    "    scores = []\n",
    "    \n",
    "    svms = train_svm(train_content,train_label)\n",
    "    for clf in svms:   \n",
    "        score = clf_pred(clf,test_content,test_label)\n",
    "        scores.append(score)\n",
    "        \n",
    "    bayes = train_bayes(train_content,train_label)\n",
    "    for clf in bayes:   \n",
    "        score = clf_pred(clf,test_content,test_label)\n",
    "        scores.append(score)\n",
    "    plot_result(scores)"
   ]
  },
  {
   "cell_type": "code",
   "execution_count": 13,
   "metadata": {},
   "outputs": [
    {
     "name": "stdout",
     "output_type": "stream",
     "text": [
      "完成函数clf_train, 运行时间 73.328s\n",
      "开始时间 : 2017-12-23 00:07:24 \n",
      "结束时间 : 2017-12-23 00:08:37 \n",
      "完成函数clf_train, 运行时间 163.546s\n",
      "开始时间 : 2017-12-23 00:08:37 \n",
      "结束时间 : 2017-12-23 00:11:21 \n",
      "TP: 170\n",
      "TN: 1820\n",
      "FP: 10\n",
      "FN: 0\n",
      "accurancy: 0.995 \n",
      "precison: 0.944444444444 \n",
      "recall: 1.0 \n",
      "F-score: 0.971428571429\n",
      "完成函数clf_pred, 运行时间 16.966s\n",
      "开始时间 : 2017-12-23 00:11:21 \n",
      "结束时间 : 2017-12-23 00:11:38 \n",
      "TP: 118\n",
      "TN: 1820\n",
      "FP: 62\n",
      "FN: 0\n",
      "accurancy: 0.969 \n",
      "precison: 0.655555555556 \n",
      "recall: 1.0 \n",
      "F-score: 0.791946308725\n",
      "完成函数clf_pred, 运行时间 38.323s\n",
      "开始时间 : 2017-12-23 00:11:38 \n",
      "结束时间 : 2017-12-23 00:12:16 \n",
      "完成函数clf_train, 运行时间 1.600s\n",
      "开始时间 : 2017-12-23 00:12:16 \n",
      "结束时间 : 2017-12-23 00:12:18 \n",
      "完成函数clf_train, 运行时间 0.557s\n",
      "开始时间 : 2017-12-23 00:12:18 \n",
      "结束时间 : 2017-12-23 00:12:18 \n",
      "完成函数clf_train, 运行时间 1.228s\n",
      "开始时间 : 2017-12-23 00:12:18 \n",
      "结束时间 : 2017-12-23 00:12:20 \n",
      "TP: 176\n",
      "TN: 1682\n",
      "FP: 4\n",
      "FN: 138\n",
      "accurancy: 0.929 \n",
      "precison: 0.977777777778 \n",
      "recall: 0.56050955414 \n",
      "F-score: 0.712550607287\n",
      "完成函数clf_pred, 运行时间 0.524s\n",
      "开始时间 : 2017-12-23 00:12:20 \n",
      "结束时间 : 2017-12-23 00:12:20 \n",
      "TP: 175\n",
      "TN: 1776\n",
      "FP: 5\n",
      "FN: 44\n",
      "accurancy: 0.9755 \n",
      "precison: 0.972222222222 \n",
      "recall: 0.799086757991 \n",
      "F-score: 0.877192982456\n",
      "完成函数clf_pred, 运行时间 0.120s\n",
      "开始时间 : 2017-12-23 00:12:20 \n",
      "结束时间 : 2017-12-23 00:12:20 \n",
      "TP: 163\n",
      "TN: 1818\n",
      "FP: 17\n",
      "FN: 2\n",
      "accurancy: 0.9905 \n",
      "precison: 0.905555555556 \n",
      "recall: 0.987878787879 \n",
      "F-score: 0.944927536232\n",
      "完成函数clf_pred, 运行时间 0.312s\n",
      "开始时间 : 2017-12-23 00:12:20 \n",
      "结束时间 : 2017-12-23 00:12:21 \n"
     ]
    },
    {
     "data": {
      "image/png": "[encoded data removed]",
      "text/plain": [
       "<matplotlib.figure.Figure at 0x1c79f83b908>"
      ]
     },
     "metadata": {},
     "output_type": "display_data"
    }
   ],
   "source": [
    "if __name__ == \"__main__\":\n",
    "#     pass\n",
    "    main()"
   ]
  },
  {
   "cell_type": "code",
   "execution_count": null,
   "metadata": {
    "collapsed": true
   },
   "outputs": [],
   "source": []
  },
  {
   "cell_type": "code",
   "execution_count": null,
   "metadata": {
    "collapsed": true
   },
   "outputs": [],
   "source": []
  }
 ],
 "metadata": {
  "kernelspec": {
   "display_name": "Python 3",
   "language": "python",
   "name": "python3"
  },
  "language_info": {
   "codemirror_mode": {
    "name": "ipython",
    "version": 3
   },
   "file_extension": ".py",
   "mimetype": "text/x-python",
   "name": "python",
   "nbconvert_exporter": "python",
   "pygments_lexer": "ipython3",
   "version": "3.6.1"
  }
 },
 "nbformat": 4,
 "nbformat_minor": 2
}
